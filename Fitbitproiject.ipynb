{
  "nbformat": 4,
  "nbformat_minor": 0,
  "metadata": {
    "colab": {
      "provenance": [],
      "authorship_tag": "ABX9TyPMP4I88kgTI70J1Ay2DYFN",
      "include_colab_link": true
    },
    "kernelspec": {
      "name": "python3",
      "display_name": "Python 3"
    },
    "language_info": {
      "name": "python"
    }
  },
  "cells": [
    {
      "cell_type": "markdown",
      "metadata": {
        "id": "view-in-github",
        "colab_type": "text"
      },
      "source": [
        "<a href=\"https://colab.research.google.com/github/PavanKrishna19/pavan/blob/main/Fitbitproiject.ipynb\" target=\"_parent\"><img src=\"https://colab.research.google.com/assets/colab-badge.svg\" alt=\"Open In Colab\"/></a>"
      ]
    },
    {
      "cell_type": "code",
      "execution_count": 1,
      "metadata": {
        "id": "JIhSOr4Bxef3"
      },
      "outputs": [],
      "source": [
        "import numpy as np\n",
        "import pandas as pd\n",
        "import matplotlib.pyplot as plt\n",
        "import seaborn as sb"
      ]
    },
    {
      "cell_type": "code",
      "source": [
        "data=pd.read_csv(\"/content/FitBitdata.csv\")\n",
        "data.head()"
      ],
      "metadata": {
        "colab": {
          "base_uri": "https://localhost:8080/",
          "height": 270
        },
        "id": "WF0_-7eB5uKJ",
        "outputId": "34eb0117-4315-412e-96b1-ea0184799e62"
      },
      "execution_count": 6,
      "outputs": [
        {
          "output_type": "execute_result",
          "data": {
            "text/plain": [
              "           Id ActivityDate  TotalSteps  TotalDistance  TrackerDistance  \\\n",
              "0  1503960366    3/25/2016       11004           7.11             7.11   \n",
              "1  1503960366    3/26/2016       17609          11.55            11.55   \n",
              "2  1503960366    3/27/2016       12736           8.53             8.53   \n",
              "3  1503960366    3/28/2016       13231           8.93             8.93   \n",
              "4  1503960366    3/29/2016       12041           7.85             7.85   \n",
              "\n",
              "   LoggedActivitiesDistance  VeryActiveDistance  ModeratelyActiveDistance  \\\n",
              "0                       0.0                2.57                      0.46   \n",
              "1                       0.0                6.92                      0.73   \n",
              "2                       0.0                4.66                      0.16   \n",
              "3                       0.0                3.19                      0.79   \n",
              "4                       0.0                2.16                      1.09   \n",
              "\n",
              "   LightActiveDistance  SedentaryActiveDistance  VeryActiveMinutes  \\\n",
              "0                 4.07                      0.0                 33   \n",
              "1                 3.91                      0.0                 89   \n",
              "2                 3.71                      0.0                 56   \n",
              "3                 4.95                      0.0                 39   \n",
              "4                 4.61                      0.0                 28   \n",
              "\n",
              "   FairlyActiveMinutes  LightlyActiveMinutes  SedentaryMinutes  Calories  \n",
              "0                   12                   205               804      1819  \n",
              "1                   17                   274               588      2154  \n",
              "2                    5                   268               605      1944  \n",
              "3                   20                   224              1080      1932  \n",
              "4                   28                   243               763      1886  "
            ],
            "text/html": [
              "\n",
              "  <div id=\"df-f7ff274f-e5c3-4d43-b3e2-dfb0b356c968\">\n",
              "    <div class=\"colab-df-container\">\n",
              "      <div>\n",
              "<style scoped>\n",
              "    .dataframe tbody tr th:only-of-type {\n",
              "        vertical-align: middle;\n",
              "    }\n",
              "\n",
              "    .dataframe tbody tr th {\n",
              "        vertical-align: top;\n",
              "    }\n",
              "\n",
              "    .dataframe thead th {\n",
              "        text-align: right;\n",
              "    }\n",
              "</style>\n",
              "<table border=\"1\" class=\"dataframe\">\n",
              "  <thead>\n",
              "    <tr style=\"text-align: right;\">\n",
              "      <th></th>\n",
              "      <th>Id</th>\n",
              "      <th>ActivityDate</th>\n",
              "      <th>TotalSteps</th>\n",
              "      <th>TotalDistance</th>\n",
              "      <th>TrackerDistance</th>\n",
              "      <th>LoggedActivitiesDistance</th>\n",
              "      <th>VeryActiveDistance</th>\n",
              "      <th>ModeratelyActiveDistance</th>\n",
              "      <th>LightActiveDistance</th>\n",
              "      <th>SedentaryActiveDistance</th>\n",
              "      <th>VeryActiveMinutes</th>\n",
              "      <th>FairlyActiveMinutes</th>\n",
              "      <th>LightlyActiveMinutes</th>\n",
              "      <th>SedentaryMinutes</th>\n",
              "      <th>Calories</th>\n",
              "    </tr>\n",
              "  </thead>\n",
              "  <tbody>\n",
              "    <tr>\n",
              "      <th>0</th>\n",
              "      <td>1503960366</td>\n",
              "      <td>3/25/2016</td>\n",
              "      <td>11004</td>\n",
              "      <td>7.11</td>\n",
              "      <td>7.11</td>\n",
              "      <td>0.0</td>\n",
              "      <td>2.57</td>\n",
              "      <td>0.46</td>\n",
              "      <td>4.07</td>\n",
              "      <td>0.0</td>\n",
              "      <td>33</td>\n",
              "      <td>12</td>\n",
              "      <td>205</td>\n",
              "      <td>804</td>\n",
              "      <td>1819</td>\n",
              "    </tr>\n",
              "    <tr>\n",
              "      <th>1</th>\n",
              "      <td>1503960366</td>\n",
              "      <td>3/26/2016</td>\n",
              "      <td>17609</td>\n",
              "      <td>11.55</td>\n",
              "      <td>11.55</td>\n",
              "      <td>0.0</td>\n",
              "      <td>6.92</td>\n",
              "      <td>0.73</td>\n",
              "      <td>3.91</td>\n",
              "      <td>0.0</td>\n",
              "      <td>89</td>\n",
              "      <td>17</td>\n",
              "      <td>274</td>\n",
              "      <td>588</td>\n",
              "      <td>2154</td>\n",
              "    </tr>\n",
              "    <tr>\n",
              "      <th>2</th>\n",
              "      <td>1503960366</td>\n",
              "      <td>3/27/2016</td>\n",
              "      <td>12736</td>\n",
              "      <td>8.53</td>\n",
              "      <td>8.53</td>\n",
              "      <td>0.0</td>\n",
              "      <td>4.66</td>\n",
              "      <td>0.16</td>\n",
              "      <td>3.71</td>\n",
              "      <td>0.0</td>\n",
              "      <td>56</td>\n",
              "      <td>5</td>\n",
              "      <td>268</td>\n",
              "      <td>605</td>\n",
              "      <td>1944</td>\n",
              "    </tr>\n",
              "    <tr>\n",
              "      <th>3</th>\n",
              "      <td>1503960366</td>\n",
              "      <td>3/28/2016</td>\n",
              "      <td>13231</td>\n",
              "      <td>8.93</td>\n",
              "      <td>8.93</td>\n",
              "      <td>0.0</td>\n",
              "      <td>3.19</td>\n",
              "      <td>0.79</td>\n",
              "      <td>4.95</td>\n",
              "      <td>0.0</td>\n",
              "      <td>39</td>\n",
              "      <td>20</td>\n",
              "      <td>224</td>\n",
              "      <td>1080</td>\n",
              "      <td>1932</td>\n",
              "    </tr>\n",
              "    <tr>\n",
              "      <th>4</th>\n",
              "      <td>1503960366</td>\n",
              "      <td>3/29/2016</td>\n",
              "      <td>12041</td>\n",
              "      <td>7.85</td>\n",
              "      <td>7.85</td>\n",
              "      <td>0.0</td>\n",
              "      <td>2.16</td>\n",
              "      <td>1.09</td>\n",
              "      <td>4.61</td>\n",
              "      <td>0.0</td>\n",
              "      <td>28</td>\n",
              "      <td>28</td>\n",
              "      <td>243</td>\n",
              "      <td>763</td>\n",
              "      <td>1886</td>\n",
              "    </tr>\n",
              "  </tbody>\n",
              "</table>\n",
              "</div>\n",
              "      <button class=\"colab-df-convert\" onclick=\"convertToInteractive('df-f7ff274f-e5c3-4d43-b3e2-dfb0b356c968')\"\n",
              "              title=\"Convert this dataframe to an interactive table.\"\n",
              "              style=\"display:none;\">\n",
              "        \n",
              "  <svg xmlns=\"http://www.w3.org/2000/svg\" height=\"24px\"viewBox=\"0 0 24 24\"\n",
              "       width=\"24px\">\n",
              "    <path d=\"M0 0h24v24H0V0z\" fill=\"none\"/>\n",
              "    <path d=\"M18.56 5.44l.94 2.06.94-2.06 2.06-.94-2.06-.94-.94-2.06-.94 2.06-2.06.94zm-11 1L8.5 8.5l.94-2.06 2.06-.94-2.06-.94L8.5 2.5l-.94 2.06-2.06.94zm10 10l.94 2.06.94-2.06 2.06-.94-2.06-.94-.94-2.06-.94 2.06-2.06.94z\"/><path d=\"M17.41 7.96l-1.37-1.37c-.4-.4-.92-.59-1.43-.59-.52 0-1.04.2-1.43.59L10.3 9.45l-7.72 7.72c-.78.78-.78 2.05 0 2.83L4 21.41c.39.39.9.59 1.41.59.51 0 1.02-.2 1.41-.59l7.78-7.78 2.81-2.81c.8-.78.8-2.07 0-2.86zM5.41 20L4 18.59l7.72-7.72 1.47 1.35L5.41 20z\"/>\n",
              "  </svg>\n",
              "      </button>\n",
              "      \n",
              "  <style>\n",
              "    .colab-df-container {\n",
              "      display:flex;\n",
              "      flex-wrap:wrap;\n",
              "      gap: 12px;\n",
              "    }\n",
              "\n",
              "    .colab-df-convert {\n",
              "      background-color: #E8F0FE;\n",
              "      border: none;\n",
              "      border-radius: 50%;\n",
              "      cursor: pointer;\n",
              "      display: none;\n",
              "      fill: #1967D2;\n",
              "      height: 32px;\n",
              "      padding: 0 0 0 0;\n",
              "      width: 32px;\n",
              "    }\n",
              "\n",
              "    .colab-df-convert:hover {\n",
              "      background-color: #E2EBFA;\n",
              "      box-shadow: 0px 1px 2px rgba(60, 64, 67, 0.3), 0px 1px 3px 1px rgba(60, 64, 67, 0.15);\n",
              "      fill: #174EA6;\n",
              "    }\n",
              "\n",
              "    [theme=dark] .colab-df-convert {\n",
              "      background-color: #3B4455;\n",
              "      fill: #D2E3FC;\n",
              "    }\n",
              "\n",
              "    [theme=dark] .colab-df-convert:hover {\n",
              "      background-color: #434B5C;\n",
              "      box-shadow: 0px 1px 3px 1px rgba(0, 0, 0, 0.15);\n",
              "      filter: drop-shadow(0px 1px 2px rgba(0, 0, 0, 0.3));\n",
              "      fill: #FFFFFF;\n",
              "    }\n",
              "  </style>\n",
              "\n",
              "      <script>\n",
              "        const buttonEl =\n",
              "          document.querySelector('#df-f7ff274f-e5c3-4d43-b3e2-dfb0b356c968 button.colab-df-convert');\n",
              "        buttonEl.style.display =\n",
              "          google.colab.kernel.accessAllowed ? 'block' : 'none';\n",
              "\n",
              "        async function convertToInteractive(key) {\n",
              "          const element = document.querySelector('#df-f7ff274f-e5c3-4d43-b3e2-dfb0b356c968');\n",
              "          const dataTable =\n",
              "            await google.colab.kernel.invokeFunction('convertToInteractive',\n",
              "                                                     [key], {});\n",
              "          if (!dataTable) return;\n",
              "\n",
              "          const docLinkHtml = 'Like what you see? Visit the ' +\n",
              "            '<a target=\"_blank\" href=https://colab.research.google.com/notebooks/data_table.ipynb>data table notebook</a>'\n",
              "            + ' to learn more about interactive tables.';\n",
              "          element.innerHTML = '';\n",
              "          dataTable['output_type'] = 'display_data';\n",
              "          await google.colab.output.renderOutput(dataTable, element);\n",
              "          const docLink = document.createElement('div');\n",
              "          docLink.innerHTML = docLinkHtml;\n",
              "          element.appendChild(docLink);\n",
              "        }\n",
              "      </script>\n",
              "    </div>\n",
              "  </div>\n",
              "  "
            ]
          },
          "metadata": {},
          "execution_count": 6
        }
      ]
    },
    {
      "cell_type": "code",
      "source": [
        "data.isnull().sum()"
      ],
      "metadata": {
        "colab": {
          "base_uri": "https://localhost:8080/"
        },
        "id": "Gq0c2Vzu7OPu",
        "outputId": "5bc5d0d1-6376-4b2b-d4b3-7b95dc0dd5ce"
      },
      "execution_count": 7,
      "outputs": [
        {
          "output_type": "execute_result",
          "data": {
            "text/plain": [
              "Id                          0\n",
              "ActivityDate                0\n",
              "TotalSteps                  0\n",
              "TotalDistance               0\n",
              "TrackerDistance             0\n",
              "LoggedActivitiesDistance    0\n",
              "VeryActiveDistance          0\n",
              "ModeratelyActiveDistance    0\n",
              "LightActiveDistance         0\n",
              "SedentaryActiveDistance     0\n",
              "VeryActiveMinutes           0\n",
              "FairlyActiveMinutes         0\n",
              "LightlyActiveMinutes        0\n",
              "SedentaryMinutes            0\n",
              "Calories                    0\n",
              "dtype: int64"
            ]
          },
          "metadata": {},
          "execution_count": 7
        }
      ]
    },
    {
      "cell_type": "code",
      "source": [
        "data.shape"
      ],
      "metadata": {
        "colab": {
          "base_uri": "https://localhost:8080/"
        },
        "id": "NEMErwSX7Ufu",
        "outputId": "7fcf7c5b-85b9-4943-d454-d0bf3b032af8"
      },
      "execution_count": 8,
      "outputs": [
        {
          "output_type": "execute_result",
          "data": {
            "text/plain": [
              "(457, 15)"
            ]
          },
          "metadata": {},
          "execution_count": 8
        }
      ]
    },
    {
      "cell_type": "code",
      "source": [
        "data.info()"
      ],
      "metadata": {
        "colab": {
          "base_uri": "https://localhost:8080/"
        },
        "id": "4TUp0JtL7X4d",
        "outputId": "cf53a445-e661-44fb-fbb0-b0f957542bd7"
      },
      "execution_count": 9,
      "outputs": [
        {
          "output_type": "stream",
          "name": "stdout",
          "text": [
            "<class 'pandas.core.frame.DataFrame'>\n",
            "RangeIndex: 457 entries, 0 to 456\n",
            "Data columns (total 15 columns):\n",
            " #   Column                    Non-Null Count  Dtype  \n",
            "---  ------                    --------------  -----  \n",
            " 0   Id                        457 non-null    int64  \n",
            " 1   ActivityDate              457 non-null    object \n",
            " 2   TotalSteps                457 non-null    int64  \n",
            " 3   TotalDistance             457 non-null    float64\n",
            " 4   TrackerDistance           457 non-null    float64\n",
            " 5   LoggedActivitiesDistance  457 non-null    float64\n",
            " 6   VeryActiveDistance        457 non-null    float64\n",
            " 7   ModeratelyActiveDistance  457 non-null    float64\n",
            " 8   LightActiveDistance       457 non-null    float64\n",
            " 9   SedentaryActiveDistance   457 non-null    float64\n",
            " 10  VeryActiveMinutes         457 non-null    int64  \n",
            " 11  FairlyActiveMinutes       457 non-null    int64  \n",
            " 12  LightlyActiveMinutes      457 non-null    int64  \n",
            " 13  SedentaryMinutes          457 non-null    int64  \n",
            " 14  Calories                  457 non-null    int64  \n",
            "dtypes: float64(7), int64(7), object(1)\n",
            "memory usage: 53.7+ KB\n"
          ]
        }
      ]
    },
    {
      "cell_type": "code",
      "source": [
        "data.describe()"
      ],
      "metadata": {
        "colab": {
          "base_uri": "https://localhost:8080/",
          "height": 364
        },
        "id": "2klbPi_w7dX1",
        "outputId": "b5a74824-2d99-4e2d-9aad-c6b0674d4399"
      },
      "execution_count": 10,
      "outputs": [
        {
          "output_type": "execute_result",
          "data": {
            "text/plain": [
              "                 Id    TotalSteps  TotalDistance  TrackerDistance  \\\n",
              "count  4.570000e+02    457.000000     457.000000       457.000000   \n",
              "mean   4.628595e+09   6546.562363       4.663523         4.609847   \n",
              "std    2.293781e+09   5398.493064       4.082072         4.068540   \n",
              "min    1.503960e+09      0.000000       0.000000         0.000000   \n",
              "25%    2.347168e+09   1988.000000       1.410000         1.280000   \n",
              "50%    4.057193e+09   5986.000000       4.090000         4.090000   \n",
              "75%    6.391747e+09  10198.000000       7.160000         7.110000   \n",
              "max    8.877689e+09  28497.000000      27.530001        27.530001   \n",
              "\n",
              "       LoggedActivitiesDistance  VeryActiveDistance  ModeratelyActiveDistance  \\\n",
              "count                457.000000          457.000000                457.000000   \n",
              "mean                   0.179427            1.180897                  0.478643   \n",
              "std                    0.849232            2.487159                  0.830995   \n",
              "min                    0.000000            0.000000                  0.000000   \n",
              "25%                    0.000000            0.000000                  0.000000   \n",
              "50%                    0.000000            0.000000                  0.020000   \n",
              "75%                    0.000000            1.310000                  0.670000   \n",
              "max                    6.727057           21.920000                  6.400000   \n",
              "\n",
              "       LightActiveDistance  SedentaryActiveDistance  VeryActiveMinutes  \\\n",
              "count           457.000000               457.000000         457.000000   \n",
              "mean              2.890197                 0.001904          16.623632   \n",
              "std               2.237523                 0.008487          28.919704   \n",
              "min               0.000000                 0.000000           0.000000   \n",
              "25%               0.870000                 0.000000           0.000000   \n",
              "50%               2.930000                 0.000000           0.000000   \n",
              "75%               4.460000                 0.000000          25.000000   \n",
              "max              12.510000                 0.100000         202.000000   \n",
              "\n",
              "       FairlyActiveMinutes  LightlyActiveMinutes  SedentaryMinutes  \\\n",
              "count           457.000000            457.000000        457.000000   \n",
              "mean             13.070022            170.070022        995.282276   \n",
              "std              36.208635            122.205372        337.021404   \n",
              "min               0.000000              0.000000         32.000000   \n",
              "25%               0.000000             64.000000        728.000000   \n",
              "50%               1.000000            181.000000       1057.000000   \n",
              "75%              16.000000            257.000000       1285.000000   \n",
              "max             660.000000            720.000000       1440.000000   \n",
              "\n",
              "          Calories  \n",
              "count   457.000000  \n",
              "mean   2189.452954  \n",
              "std     815.484523  \n",
              "min       0.000000  \n",
              "25%    1776.000000  \n",
              "50%    2062.000000  \n",
              "75%    2667.000000  \n",
              "max    4562.000000  "
            ],
            "text/html": [
              "\n",
              "  <div id=\"df-fef3a50a-9263-42b8-b6e3-3abc9b50081e\">\n",
              "    <div class=\"colab-df-container\">\n",
              "      <div>\n",
              "<style scoped>\n",
              "    .dataframe tbody tr th:only-of-type {\n",
              "        vertical-align: middle;\n",
              "    }\n",
              "\n",
              "    .dataframe tbody tr th {\n",
              "        vertical-align: top;\n",
              "    }\n",
              "\n",
              "    .dataframe thead th {\n",
              "        text-align: right;\n",
              "    }\n",
              "</style>\n",
              "<table border=\"1\" class=\"dataframe\">\n",
              "  <thead>\n",
              "    <tr style=\"text-align: right;\">\n",
              "      <th></th>\n",
              "      <th>Id</th>\n",
              "      <th>TotalSteps</th>\n",
              "      <th>TotalDistance</th>\n",
              "      <th>TrackerDistance</th>\n",
              "      <th>LoggedActivitiesDistance</th>\n",
              "      <th>VeryActiveDistance</th>\n",
              "      <th>ModeratelyActiveDistance</th>\n",
              "      <th>LightActiveDistance</th>\n",
              "      <th>SedentaryActiveDistance</th>\n",
              "      <th>VeryActiveMinutes</th>\n",
              "      <th>FairlyActiveMinutes</th>\n",
              "      <th>LightlyActiveMinutes</th>\n",
              "      <th>SedentaryMinutes</th>\n",
              "      <th>Calories</th>\n",
              "    </tr>\n",
              "  </thead>\n",
              "  <tbody>\n",
              "    <tr>\n",
              "      <th>count</th>\n",
              "      <td>4.570000e+02</td>\n",
              "      <td>457.000000</td>\n",
              "      <td>457.000000</td>\n",
              "      <td>457.000000</td>\n",
              "      <td>457.000000</td>\n",
              "      <td>457.000000</td>\n",
              "      <td>457.000000</td>\n",
              "      <td>457.000000</td>\n",
              "      <td>457.000000</td>\n",
              "      <td>457.000000</td>\n",
              "      <td>457.000000</td>\n",
              "      <td>457.000000</td>\n",
              "      <td>457.000000</td>\n",
              "      <td>457.000000</td>\n",
              "    </tr>\n",
              "    <tr>\n",
              "      <th>mean</th>\n",
              "      <td>4.628595e+09</td>\n",
              "      <td>6546.562363</td>\n",
              "      <td>4.663523</td>\n",
              "      <td>4.609847</td>\n",
              "      <td>0.179427</td>\n",
              "      <td>1.180897</td>\n",
              "      <td>0.478643</td>\n",
              "      <td>2.890197</td>\n",
              "      <td>0.001904</td>\n",
              "      <td>16.623632</td>\n",
              "      <td>13.070022</td>\n",
              "      <td>170.070022</td>\n",
              "      <td>995.282276</td>\n",
              "      <td>2189.452954</td>\n",
              "    </tr>\n",
              "    <tr>\n",
              "      <th>std</th>\n",
              "      <td>2.293781e+09</td>\n",
              "      <td>5398.493064</td>\n",
              "      <td>4.082072</td>\n",
              "      <td>4.068540</td>\n",
              "      <td>0.849232</td>\n",
              "      <td>2.487159</td>\n",
              "      <td>0.830995</td>\n",
              "      <td>2.237523</td>\n",
              "      <td>0.008487</td>\n",
              "      <td>28.919704</td>\n",
              "      <td>36.208635</td>\n",
              "      <td>122.205372</td>\n",
              "      <td>337.021404</td>\n",
              "      <td>815.484523</td>\n",
              "    </tr>\n",
              "    <tr>\n",
              "      <th>min</th>\n",
              "      <td>1.503960e+09</td>\n",
              "      <td>0.000000</td>\n",
              "      <td>0.000000</td>\n",
              "      <td>0.000000</td>\n",
              "      <td>0.000000</td>\n",
              "      <td>0.000000</td>\n",
              "      <td>0.000000</td>\n",
              "      <td>0.000000</td>\n",
              "      <td>0.000000</td>\n",
              "      <td>0.000000</td>\n",
              "      <td>0.000000</td>\n",
              "      <td>0.000000</td>\n",
              "      <td>32.000000</td>\n",
              "      <td>0.000000</td>\n",
              "    </tr>\n",
              "    <tr>\n",
              "      <th>25%</th>\n",
              "      <td>2.347168e+09</td>\n",
              "      <td>1988.000000</td>\n",
              "      <td>1.410000</td>\n",
              "      <td>1.280000</td>\n",
              "      <td>0.000000</td>\n",
              "      <td>0.000000</td>\n",
              "      <td>0.000000</td>\n",
              "      <td>0.870000</td>\n",
              "      <td>0.000000</td>\n",
              "      <td>0.000000</td>\n",
              "      <td>0.000000</td>\n",
              "      <td>64.000000</td>\n",
              "      <td>728.000000</td>\n",
              "      <td>1776.000000</td>\n",
              "    </tr>\n",
              "    <tr>\n",
              "      <th>50%</th>\n",
              "      <td>4.057193e+09</td>\n",
              "      <td>5986.000000</td>\n",
              "      <td>4.090000</td>\n",
              "      <td>4.090000</td>\n",
              "      <td>0.000000</td>\n",
              "      <td>0.000000</td>\n",
              "      <td>0.020000</td>\n",
              "      <td>2.930000</td>\n",
              "      <td>0.000000</td>\n",
              "      <td>0.000000</td>\n",
              "      <td>1.000000</td>\n",
              "      <td>181.000000</td>\n",
              "      <td>1057.000000</td>\n",
              "      <td>2062.000000</td>\n",
              "    </tr>\n",
              "    <tr>\n",
              "      <th>75%</th>\n",
              "      <td>6.391747e+09</td>\n",
              "      <td>10198.000000</td>\n",
              "      <td>7.160000</td>\n",
              "      <td>7.110000</td>\n",
              "      <td>0.000000</td>\n",
              "      <td>1.310000</td>\n",
              "      <td>0.670000</td>\n",
              "      <td>4.460000</td>\n",
              "      <td>0.000000</td>\n",
              "      <td>25.000000</td>\n",
              "      <td>16.000000</td>\n",
              "      <td>257.000000</td>\n",
              "      <td>1285.000000</td>\n",
              "      <td>2667.000000</td>\n",
              "    </tr>\n",
              "    <tr>\n",
              "      <th>max</th>\n",
              "      <td>8.877689e+09</td>\n",
              "      <td>28497.000000</td>\n",
              "      <td>27.530001</td>\n",
              "      <td>27.530001</td>\n",
              "      <td>6.727057</td>\n",
              "      <td>21.920000</td>\n",
              "      <td>6.400000</td>\n",
              "      <td>12.510000</td>\n",
              "      <td>0.100000</td>\n",
              "      <td>202.000000</td>\n",
              "      <td>660.000000</td>\n",
              "      <td>720.000000</td>\n",
              "      <td>1440.000000</td>\n",
              "      <td>4562.000000</td>\n",
              "    </tr>\n",
              "  </tbody>\n",
              "</table>\n",
              "</div>\n",
              "      <button class=\"colab-df-convert\" onclick=\"convertToInteractive('df-fef3a50a-9263-42b8-b6e3-3abc9b50081e')\"\n",
              "              title=\"Convert this dataframe to an interactive table.\"\n",
              "              style=\"display:none;\">\n",
              "        \n",
              "  <svg xmlns=\"http://www.w3.org/2000/svg\" height=\"24px\"viewBox=\"0 0 24 24\"\n",
              "       width=\"24px\">\n",
              "    <path d=\"M0 0h24v24H0V0z\" fill=\"none\"/>\n",
              "    <path d=\"M18.56 5.44l.94 2.06.94-2.06 2.06-.94-2.06-.94-.94-2.06-.94 2.06-2.06.94zm-11 1L8.5 8.5l.94-2.06 2.06-.94-2.06-.94L8.5 2.5l-.94 2.06-2.06.94zm10 10l.94 2.06.94-2.06 2.06-.94-2.06-.94-.94-2.06-.94 2.06-2.06.94z\"/><path d=\"M17.41 7.96l-1.37-1.37c-.4-.4-.92-.59-1.43-.59-.52 0-1.04.2-1.43.59L10.3 9.45l-7.72 7.72c-.78.78-.78 2.05 0 2.83L4 21.41c.39.39.9.59 1.41.59.51 0 1.02-.2 1.41-.59l7.78-7.78 2.81-2.81c.8-.78.8-2.07 0-2.86zM5.41 20L4 18.59l7.72-7.72 1.47 1.35L5.41 20z\"/>\n",
              "  </svg>\n",
              "      </button>\n",
              "      \n",
              "  <style>\n",
              "    .colab-df-container {\n",
              "      display:flex;\n",
              "      flex-wrap:wrap;\n",
              "      gap: 12px;\n",
              "    }\n",
              "\n",
              "    .colab-df-convert {\n",
              "      background-color: #E8F0FE;\n",
              "      border: none;\n",
              "      border-radius: 50%;\n",
              "      cursor: pointer;\n",
              "      display: none;\n",
              "      fill: #1967D2;\n",
              "      height: 32px;\n",
              "      padding: 0 0 0 0;\n",
              "      width: 32px;\n",
              "    }\n",
              "\n",
              "    .colab-df-convert:hover {\n",
              "      background-color: #E2EBFA;\n",
              "      box-shadow: 0px 1px 2px rgba(60, 64, 67, 0.3), 0px 1px 3px 1px rgba(60, 64, 67, 0.15);\n",
              "      fill: #174EA6;\n",
              "    }\n",
              "\n",
              "    [theme=dark] .colab-df-convert {\n",
              "      background-color: #3B4455;\n",
              "      fill: #D2E3FC;\n",
              "    }\n",
              "\n",
              "    [theme=dark] .colab-df-convert:hover {\n",
              "      background-color: #434B5C;\n",
              "      box-shadow: 0px 1px 3px 1px rgba(0, 0, 0, 0.15);\n",
              "      filter: drop-shadow(0px 1px 2px rgba(0, 0, 0, 0.3));\n",
              "      fill: #FFFFFF;\n",
              "    }\n",
              "  </style>\n",
              "\n",
              "      <script>\n",
              "        const buttonEl =\n",
              "          document.querySelector('#df-fef3a50a-9263-42b8-b6e3-3abc9b50081e button.colab-df-convert');\n",
              "        buttonEl.style.display =\n",
              "          google.colab.kernel.accessAllowed ? 'block' : 'none';\n",
              "\n",
              "        async function convertToInteractive(key) {\n",
              "          const element = document.querySelector('#df-fef3a50a-9263-42b8-b6e3-3abc9b50081e');\n",
              "          const dataTable =\n",
              "            await google.colab.kernel.invokeFunction('convertToInteractive',\n",
              "                                                     [key], {});\n",
              "          if (!dataTable) return;\n",
              "\n",
              "          const docLinkHtml = 'Like what you see? Visit the ' +\n",
              "            '<a target=\"_blank\" href=https://colab.research.google.com/notebooks/data_table.ipynb>data table notebook</a>'\n",
              "            + ' to learn more about interactive tables.';\n",
              "          element.innerHTML = '';\n",
              "          dataTable['output_type'] = 'display_data';\n",
              "          await google.colab.output.renderOutput(dataTable, element);\n",
              "          const docLink = document.createElement('div');\n",
              "          docLink.innerHTML = docLinkHtml;\n",
              "          element.appendChild(docLink);\n",
              "        }\n",
              "      </script>\n",
              "    </div>\n",
              "  </div>\n",
              "  "
            ]
          },
          "metadata": {},
          "execution_count": 10
        }
      ]
    },
    {
      "cell_type": "code",
      "source": [
        "sb.heatmap(data.corr(),annot=True,cmap='magma')"
      ],
      "metadata": {
        "colab": {
          "base_uri": "https://localhost:8080/",
          "height": 407
        },
        "id": "DceKWldy7hnX",
        "outputId": "c567cf6f-0800-4629-d776-bfa4fda63d6b"
      },
      "execution_count": 11,
      "outputs": [
        {
          "output_type": "execute_result",
          "data": {
            "text/plain": [
              "<AxesSubplot:>"
            ]
          },
          "metadata": {},
          "execution_count": 11
        },
        {
          "output_type": "display_data",
          "data": {
            "text/plain": [
              "<Figure size 432x288 with 2 Axes>"
            ],
            "image/png": "[encoded data removed]"
          },
          "metadata": {
            "needs_background": "light"
          }
        }
      ]
    },
    {
      "cell_type": "code",
      "source": [
        "data['year'] = pd.DatetimeIndex(data['ActivityDate']).strftime('%Y')\n",
        "data['month'] =  pd.DatetimeIndex(data['ActivityDate']).strftime('%b') \n",
        "data['day'] = pd.DatetimeIndex(data['ActivityDate']).strftime('%a')"
      ],
      "metadata": {
        "id": "Ap3YOLcg7oaq"
      },
      "execution_count": 12,
      "outputs": []
    },
    {
      "cell_type": "code",
      "source": [
        "data.head()"
      ],
      "metadata": {
        "colab": {
          "base_uri": "https://localhost:8080/",
          "height": 270
        },
        "id": "sII_Ecah7wlG",
        "outputId": "62d4aafb-cf9c-419e-8440-8ee75a3bdc2b"
      },
      "execution_count": 13,
      "outputs": [
        {
          "output_type": "execute_result",
          "data": {
            "text/plain": [
              "           Id ActivityDate  TotalSteps  TotalDistance  TrackerDistance  \\\n",
              "0  1503960366    3/25/2016       11004           7.11             7.11   \n",
              "1  1503960366    3/26/2016       17609          11.55            11.55   \n",
              "2  1503960366    3/27/2016       12736           8.53             8.53   \n",
              "3  1503960366    3/28/2016       13231           8.93             8.93   \n",
              "4  1503960366    3/29/2016       12041           7.85             7.85   \n",
              "\n",
              "   LoggedActivitiesDistance  VeryActiveDistance  ModeratelyActiveDistance  \\\n",
              "0                       0.0                2.57                      0.46   \n",
              "1                       0.0                6.92                      0.73   \n",
              "2                       0.0                4.66                      0.16   \n",
              "3                       0.0                3.19                      0.79   \n",
              "4                       0.0                2.16                      1.09   \n",
              "\n",
              "   LightActiveDistance  SedentaryActiveDistance  VeryActiveMinutes  \\\n",
              "0                 4.07                      0.0                 33   \n",
              "1                 3.91                      0.0                 89   \n",
              "2                 3.71                      0.0                 56   \n",
              "3                 4.95                      0.0                 39   \n",
              "4                 4.61                      0.0                 28   \n",
              "\n",
              "   FairlyActiveMinutes  LightlyActiveMinutes  SedentaryMinutes  Calories  \\\n",
              "0                   12                   205               804      1819   \n",
              "1                   17                   274               588      2154   \n",
              "2                    5                   268               605      1944   \n",
              "3                   20                   224              1080      1932   \n",
              "4                   28                   243               763      1886   \n",
              "\n",
              "   year month  day  \n",
              "0  2016   Mar  Fri  \n",
              "1  2016   Mar  Sat  \n",
              "2  2016   Mar  Sun  \n",
              "3  2016   Mar  Mon  \n",
              "4  2016   Mar  Tue  "
            ],
            "text/html": [
              "\n",
              "  <div id=\"df-23197de2-941c-4034-8a1f-ae4e074e6df7\">\n",
              "    <div class=\"colab-df-container\">\n",
              "      <div>\n",
              "<style scoped>\n",
              "    .dataframe tbody tr th:only-of-type {\n",
              "        vertical-align: middle;\n",
              "    }\n",
              "\n",
              "    .dataframe tbody tr th {\n",
              "        vertical-align: top;\n",
              "    }\n",
              "\n",
              "    .dataframe thead th {\n",
              "        text-align: right;\n",
              "    }\n",
              "</style>\n",
              "<table border=\"1\" class=\"dataframe\">\n",
              "  <thead>\n",
              "    <tr style=\"text-align: right;\">\n",
              "      <th></th>\n",
              "      <th>Id</th>\n",
              "      <th>ActivityDate</th>\n",
              "      <th>TotalSteps</th>\n",
              "      <th>TotalDistance</th>\n",
              "      <th>TrackerDistance</th>\n",
              "      <th>LoggedActivitiesDistance</th>\n",
              "      <th>VeryActiveDistance</th>\n",
              "      <th>ModeratelyActiveDistance</th>\n",
              "      <th>LightActiveDistance</th>\n",
              "      <th>SedentaryActiveDistance</th>\n",
              "      <th>VeryActiveMinutes</th>\n",
              "      <th>FairlyActiveMinutes</th>\n",
              "      <th>LightlyActiveMinutes</th>\n",
              "      <th>SedentaryMinutes</th>\n",
              "      <th>Calories</th>\n",
              "      <th>year</th>\n",
              "      <th>month</th>\n",
              "      <th>day</th>\n",
              "    </tr>\n",
              "  </thead>\n",
              "  <tbody>\n",
              "    <tr>\n",
              "      <th>0</th>\n",
              "      <td>1503960366</td>\n",
              "      <td>3/25/2016</td>\n",
              "      <td>11004</td>\n",
              "      <td>7.11</td>\n",
              "      <td>7.11</td>\n",
              "      <td>0.0</td>\n",
              "      <td>2.57</td>\n",
              "      <td>0.46</td>\n",
              "      <td>4.07</td>\n",
              "      <td>0.0</td>\n",
              "      <td>33</td>\n",
              "      <td>12</td>\n",
              "      <td>205</td>\n",
              "      <td>804</td>\n",
              "      <td>1819</td>\n",
              "      <td>2016</td>\n",
              "      <td>Mar</td>\n",
              "      <td>Fri</td>\n",
              "    </tr>\n",
              "    <tr>\n",
              "      <th>1</th>\n",
              "      <td>1503960366</td>\n",
              "      <td>3/26/2016</td>\n",
              "      <td>17609</td>\n",
              "      <td>11.55</td>\n",
              "      <td>11.55</td>\n",
              "      <td>0.0</td>\n",
              "      <td>6.92</td>\n",
              "      <td>0.73</td>\n",
              "      <td>3.91</td>\n",
              "      <td>0.0</td>\n",
              "      <td>89</td>\n",
              "      <td>17</td>\n",
              "      <td>274</td>\n",
              "      <td>588</td>\n",
              "      <td>2154</td>\n",
              "      <td>2016</td>\n",
              "      <td>Mar</td>\n",
              "      <td>Sat</td>\n",
              "    </tr>\n",
              "    <tr>\n",
              "      <th>2</th>\n",
              "      <td>1503960366</td>\n",
              "      <td>3/27/2016</td>\n",
              "      <td>12736</td>\n",
              "      <td>8.53</td>\n",
              "      <td>8.53</td>\n",
              "      <td>0.0</td>\n",
              "      <td>4.66</td>\n",
              "      <td>0.16</td>\n",
              "      <td>3.71</td>\n",
              "      <td>0.0</td>\n",
              "      <td>56</td>\n",
              "      <td>5</td>\n",
              "      <td>268</td>\n",
              "      <td>605</td>\n",
              "      <td>1944</td>\n",
              "      <td>2016</td>\n",
              "      <td>Mar</td>\n",
              "      <td>Sun</td>\n",
              "    </tr>\n",
              "    <tr>\n",
              "      <th>3</th>\n",
              "      <td>1503960366</td>\n",
              "      <td>3/28/2016</td>\n",
              "      <td>13231</td>\n",
              "      <td>8.93</td>\n",
              "      <td>8.93</td>\n",
              "      <td>0.0</td>\n",
              "      <td>3.19</td>\n",
              "      <td>0.79</td>\n",
              "      <td>4.95</td>\n",
              "      <td>0.0</td>\n",
              "      <td>39</td>\n",
              "      <td>20</td>\n",
              "      <td>224</td>\n",
              "      <td>1080</td>\n",
              "      <td>1932</td>\n",
              "      <td>2016</td>\n",
              "      <td>Mar</td>\n",
              "      <td>Mon</td>\n",
              "    </tr>\n",
              "    <tr>\n",
              "      <th>4</th>\n",
              "      <td>1503960366</td>\n",
              "      <td>3/29/2016</td>\n",
              "      <td>12041</td>\n",
              "      <td>7.85</td>\n",
              "      <td>7.85</td>\n",
              "      <td>0.0</td>\n",
              "      <td>2.16</td>\n",
              "      <td>1.09</td>\n",
              "      <td>4.61</td>\n",
              "      <td>0.0</td>\n",
              "      <td>28</td>\n",
              "      <td>28</td>\n",
              "      <td>243</td>\n",
              "      <td>763</td>\n",
              "      <td>1886</td>\n",
              "      <td>2016</td>\n",
              "      <td>Mar</td>\n",
              "      <td>Tue</td>\n",
              "    </tr>\n",
              "  </tbody>\n",
              "</table>\n",
              "</div>\n",
              "      <button class=\"colab-df-convert\" onclick=\"convertToInteractive('df-23197de2-941c-4034-8a1f-ae4e074e6df7')\"\n",
              "              title=\"Convert this dataframe to an interactive table.\"\n",
              "              style=\"display:none;\">\n",
              "        \n",
              "  <svg xmlns=\"http://www.w3.org/2000/svg\" height=\"24px\"viewBox=\"0 0 24 24\"\n",
              "       width=\"24px\">\n",
              "    <path d=\"M0 0h24v24H0V0z\" fill=\"none\"/>\n",
              "    <path d=\"M18.56 5.44l.94 2.06.94-2.06 2.06-.94-2.06-.94-.94-2.06-.94 2.06-2.06.94zm-11 1L8.5 8.5l.94-2.06 2.06-.94-2.06-.94L8.5 2.5l-.94 2.06-2.06.94zm10 10l.94 2.06.94-2.06 2.06-.94-2.06-.94-.94-2.06-.94 2.06-2.06.94z\"/><path d=\"M17.41 7.96l-1.37-1.37c-.4-.4-.92-.59-1.43-.59-.52 0-1.04.2-1.43.59L10.3 9.45l-7.72 7.72c-.78.78-.78 2.05 0 2.83L4 21.41c.39.39.9.59 1.41.59.51 0 1.02-.2 1.41-.59l7.78-7.78 2.81-2.81c.8-.78.8-2.07 0-2.86zM5.41 20L4 18.59l7.72-7.72 1.47 1.35L5.41 20z\"/>\n",
              "  </svg>\n",
              "      </button>\n",
              "      \n",
              "  <style>\n",
              "    .colab-df-container {\n",
              "      display:flex;\n",
              "      flex-wrap:wrap;\n",
              "      gap: 12px;\n",
              "    }\n",
              "\n",
              "    .colab-df-convert {\n",
              "      background-color: #E8F0FE;\n",
              "      border: none;\n",
              "      border-radius: 50%;\n",
              "      cursor: pointer;\n",
              "      display: none;\n",
              "      fill: #1967D2;\n",
              "      height: 32px;\n",
              "      padding: 0 0 0 0;\n",
              "      width: 32px;\n",
              "    }\n",
              "\n",
              "    .colab-df-convert:hover {\n",
              "      background-color: #E2EBFA;\n",
              "      box-shadow: 0px 1px 2px rgba(60, 64, 67, 0.3), 0px 1px 3px 1px rgba(60, 64, 67, 0.15);\n",
              "      fill: #174EA6;\n",
              "    }\n",
              "\n",
              "    [theme=dark] .colab-df-convert {\n",
              "      background-color: #3B4455;\n",
              "      fill: #D2E3FC;\n",
              "    }\n",
              "\n",
              "    [theme=dark] .colab-df-convert:hover {\n",
              "      background-color: #434B5C;\n",
              "      box-shadow: 0px 1px 3px 1px rgba(0, 0, 0, 0.15);\n",
              "      filter: drop-shadow(0px 1px 2px rgba(0, 0, 0, 0.3));\n",
              "      fill: #FFFFFF;\n",
              "    }\n",
              "  </style>\n",
              "\n",
              "      <script>\n",
              "        const buttonEl =\n",
              "          document.querySelector('#df-23197de2-941c-4034-8a1f-ae4e074e6df7 button.colab-df-convert');\n",
              "        buttonEl.style.display =\n",
              "          google.colab.kernel.accessAllowed ? 'block' : 'none';\n",
              "\n",
              "        async function convertToInteractive(key) {\n",
              "          const element = document.querySelector('#df-23197de2-941c-4034-8a1f-ae4e074e6df7');\n",
              "          const dataTable =\n",
              "            await google.colab.kernel.invokeFunction('convertToInteractive',\n",
              "                                                     [key], {});\n",
              "          if (!dataTable) return;\n",
              "\n",
              "          const docLinkHtml = 'Like what you see? Visit the ' +\n",
              "            '<a target=\"_blank\" href=https://colab.research.google.com/notebooks/data_table.ipynb>data table notebook</a>'\n",
              "            + ' to learn more about interactive tables.';\n",
              "          element.innerHTML = '';\n",
              "          dataTable['output_type'] = 'display_data';\n",
              "          await google.colab.output.renderOutput(dataTable, element);\n",
              "          const docLink = document.createElement('div');\n",
              "          docLink.innerHTML = docLinkHtml;\n",
              "          element.appendChild(docLink);\n",
              "        }\n",
              "      </script>\n",
              "    </div>\n",
              "  </div>\n",
              "  "
            ]
          },
          "metadata": {},
          "execution_count": 13
        }
      ]
    },
    {
      "cell_type": "code",
      "source": [
        "data.shape"
      ],
      "metadata": {
        "colab": {
          "base_uri": "https://localhost:8080/"
        },
        "id": "-oPSK9wY73xV",
        "outputId": "9d441cea-7269-436b-89fe-7b653e777236"
      },
      "execution_count": 14,
      "outputs": [
        {
          "output_type": "execute_result",
          "data": {
            "text/plain": [
              "(457, 18)"
            ]
          },
          "metadata": {},
          "execution_count": 14
        }
      ]
    },
    {
      "cell_type": "code",
      "source": [
        "#plotting\n",
        "x=data['TotalSteps']\n",
        "plt.xlabel(\"Total steps\")\n",
        "plt.ylabel(\"calories\")\n",
        "y=data['Calories']\n",
        "plt.scatter(x,y)"
      ],
      "metadata": {
        "colab": {
          "base_uri": "https://localhost:8080/",
          "height": 296
        },
        "id": "1UgSKHVF76Wm",
        "outputId": "fd183aea-db08-48f0-e087-828de8753e7b"
      },
      "execution_count": 15,
      "outputs": [
        {
          "output_type": "execute_result",
          "data": {
            "text/plain": [
              "<matplotlib.collections.PathCollection at 0x7fedae831ac0>"
            ]
          },
          "metadata": {},
          "execution_count": 15
        },
        {
          "output_type": "display_data",
          "data": {
            "text/plain": [
              "<Figure size 432x288 with 1 Axes>"
            ],
            "image/png": "[encoded data removed]"
          },
          "metadata": {
            "needs_background": "light"
          }
        }
      ]
    },
    {
      "cell_type": "code",
      "source": [
        "#plotting\n",
        "x=data['TotalDistance']\n",
        "plt.xlabel(\"Total steps\")\n",
        "plt.ylabel(\" Total distance\")\n",
        "y=data['Calories']\n",
        "plt.scatter(x,y)"
      ],
      "metadata": {
        "colab": {
          "base_uri": "https://localhost:8080/",
          "height": 296
        },
        "id": "IWdx-pO08A5v",
        "outputId": "b678668e-5260-47a1-c145-e915bae09c3d"
      },
      "execution_count": 16,
      "outputs": [
        {
          "output_type": "execute_result",
          "data": {
            "text/plain": [
              "<matplotlib.collections.PathCollection at 0x7fedae7ae730>"
            ]
          },
          "metadata": {},
          "execution_count": 16
        },
        {
          "output_type": "display_data",
          "data": {
            "text/plain": [
              "<Figure size 432x288 with 1 Axes>"
            ],
            "image/png": "[encoded data removed]"
          },
          "metadata": {
            "needs_background": "light"
          }
        }
      ]
    },
    {
      "cell_type": "code",
      "source": [
        "sb.countplot(x=\"day\",data=data)"
      ],
      "metadata": {
        "colab": {
          "base_uri": "https://localhost:8080/",
          "height": 296
        },
        "id": "cq-azMJ48FFs",
        "outputId": "b786198b-e777-4972-a883-dc6325145b48"
      },
      "execution_count": 17,
      "outputs": [
        {
          "output_type": "execute_result",
          "data": {
            "text/plain": [
              "<AxesSubplot:xlabel='day', ylabel='count'>"
            ]
          },
          "metadata": {},
          "execution_count": 17
        },
        {
          "output_type": "display_data",
          "data": {
            "text/plain": [
              "<Figure size 432x288 with 1 Axes>"
            ],
            "image/png": "[encoded data removed]"
          },
          "metadata": {
            "needs_background": "light"
          }
        }
      ]
    },
    {
      "cell_type": "code",
      "source": [
        "sb.countplot(x=\"month\",data=data)"
      ],
      "metadata": {
        "colab": {
          "base_uri": "https://localhost:8080/",
          "height": 299
        },
        "id": "g2zPt9KC8M0S",
        "outputId": "8f90d615-22ef-41c9-9c52-8da6f8efcee0"
      },
      "execution_count": 18,
      "outputs": [
        {
          "output_type": "execute_result",
          "data": {
            "text/plain": [
              "<AxesSubplot:xlabel='month', ylabel='count'>"
            ]
          },
          "metadata": {},
          "execution_count": 18
        },
        {
          "output_type": "display_data",
          "data": {
            "text/plain": [
              "<Figure size 432x288 with 1 Axes>"
            ],
            "image/png": "[encoded data removed]"
          },
          "metadata": {
            "needs_background": "light"
          }
        }
      ]
    },
    {
      "cell_type": "code",
      "source": [
        "x=data['day']\n",
        "plt.xlabel('day')\n",
        "plt.ylabel('calories')\n",
        "y=data['Calories']\n",
        "plt.bar(x,y)"
      ],
      "metadata": {
        "colab": {
          "base_uri": "https://localhost:8080/",
          "height": 296
        },
        "id": "iQ3lMLBp8Smq",
        "outputId": "b4be9ef0-51b3-4177-972d-6736cfbf81d3"
      },
      "execution_count": 19,
      "outputs": [
        {
          "output_type": "execute_result",
          "data": {
            "text/plain": [
              "<BarContainer object of 457 artists>"
            ]
          },
          "metadata": {},
          "execution_count": 19
        },
        {
          "output_type": "display_data",
          "data": {
            "text/plain": [
              "<Figure size 432x288 with 1 Axes>"
            ],
            "image/png": "[encoded data removed]"
          },
          "metadata": {
            "needs_background": "light"
          }
        }
      ]
    }
  ]
}